{
 "cells": [
  {
   "cell_type": "markdown",
   "metadata": {},
   "source": [
    "# Import libraries"
   ]
  },
  {
   "cell_type": "code",
   "execution_count": 2,
   "metadata": {
    "collapsed": true
   },
   "outputs": [],
   "source": [
    "import os\n",
    "from flask import Flask, render_template, request, g, redirect, url_for,flash\n",
    "from werkzeug import secure_filename\n",
    "from pathlib import Path\n",
    "import sqlite3\n",
    "from pybtex.database import parse_file"
   ]
  },
  {
   "cell_type": "markdown",
   "metadata": {},
   "source": [
    "1. os -- file pathing, saving files\n",
    "2. flask -- we're making a web application\n",
    "3. werkzeug -- examples suggested that this was more secure for the user\n",
    "4. pathlib -- we'll use this to check for the database file\n",
    "5. sqlite3 -- making a database, using SQL queries\n",
    "6. pybtex -- parsing the .bib file"
   ]
  },
  {
   "cell_type": "markdown",
   "metadata": {},
   "source": [
    "# Declarations"
   ]
  },
  {
   "cell_type": "code",
   "execution_count": 3,
   "metadata": {
    "collapsed": true
   },
   "outputs": [],
   "source": [
    "app = Flask(__name__)\n",
    "\n",
    "app.config['UPLOAD_FOLDER'] = 'uploads'\n",
    "db_path = os.path.join(app.root_path, 'uploads/biblio.db')\n",
    "ALLOWED_EXTENSIONS = set(['bib'])"
   ]
  },
  {
   "cell_type": "markdown",
   "metadata": {},
   "source": [
    "db_path is the path to the database, stored in the 'uploads' directory;  \n",
    "ALLOWED_EXTENSIONS will limit the user to the uploading of .bib files only"
   ]
  },
  {
   "cell_type": "markdown",
   "metadata": {},
   "source": [
    "# Function definitions"
   ]
  },
  {
   "cell_type": "markdown",
   "metadata": {},
   "source": [
    "## Database functions"
   ]
  },
  {
   "cell_type": "code",
   "execution_count": 4,
   "metadata": {
    "collapsed": true
   },
   "outputs": [],
   "source": [
    "def get_db():\n",
    "    connection = sqlite3.connect(db_path)\n",
    "    cursor = connection.cursor()\n",
    "    return connection, cursor  #connection and cursor pointing to the database\n",
    "\n",
    "def create_db():\n",
    "    connection = sqlite3.connect(db_path)\n",
    "    cursor = connection.cursor()\n",
    "    \n",
    "    #create the table\n",
    "    cursor.execute('''CREATE TABLE bib\n",
    "             (tag text, authors text, journal text, volume int, pages text, year int, title text, collection text)''')\n",
    "    #and save it\n",
    "    connection.commit()\n",
    "    return connection, cursor\n",
    "\n",
    "\n",
    "def query_db(query_string):\n",
    "    connection, cursor = get_db()\n",
    "    cursor.execute(f'SELECT * FROM bib WHERE '+ query_string)\n",
    "    all_rows = cursor.fetchall()\n",
    "    return all_rows #a list of database entries matching the query criterion"
   ]
  },
  {
   "cell_type": "markdown",
   "metadata": {},
   "source": [
    "create_db() is called when the user first enters the 'index' URL; a database table with 8 columns is created  \n",
    "get_db() can be called to get the connection/cursor of the database in order to manipulate the table  \n",
    "query_db() is used to query the database using the (partial) SQL string provided by the user"
   ]
  },
  {
   "cell_type": "code",
   "execution_count": 5,
   "metadata": {
    "collapsed": true
   },
   "outputs": [],
   "source": [
    "def fill(bib_data, collection):\n",
    "    connection, cursor = get_db()\n",
    "    for entry in bib_data.entries: \n",
    "        #get the authors\n",
    "        authors = get_db_authors(bib_data, entry)\n",
    "        #get everything else\n",
    "        tag,journal,volume,pages,year,title= entry, get_db_string('journal', bib_data, entry),\\\n",
    "        get_db_int('volume', bib_data, entry), get_db_string('pages', bib_data, entry), \\\n",
    "        get_db_int('year', bib_data, entry), get_db_string('title', bib_data, entry)\n",
    "        \n",
    "        #we'll clean up the title/journal strings a bit\n",
    "        title = title.replace('{', '')\n",
    "        title = title.replace('}', '')\n",
    "        journal = journal.replace(\"\\\\\", '')\n",
    "        \n",
    "        #populate the database\n",
    "        exe_string = f\"INSERT INTO bib VALUES ('{tag}', '{authors}', '{journal}', '{volume}', '{pages}', '{year}', '{title}', '{collection}')\"\n",
    "        cursor.execute(exe_string)\n",
    "    #and save the changes\n",
    "    connection.commit()\n",
    "\n",
    "def get_db_string(key, bib_data, entry):\n",
    "    try:\n",
    "        return bib_data.entries[entry].fields[key]\n",
    "    except KeyError:\n",
    "        return ''  #when there's no journal, title, etc. for this entry\n",
    "    \n",
    "def get_db_int(key, bib_data, entry):\n",
    "    try:\n",
    "        return int(bib_data.entries[entry].fields[key])\n",
    "    except KeyError:\n",
    "        return 0   #when there's no year or volume for this entry\n",
    "    \n",
    "def get_db_authors(bib_data, entry):\n",
    "    authors = ''\n",
    "    try: \n",
    "        for author in bib_data.entries[entry].persons['author']:\n",
    "            new_author = str(author)\n",
    "            \n",
    "            #we'll clean up the author names a bit\n",
    "            characters = ['{', '}', \"'\",'\"', '\\\\', '//']\n",
    "            for c in characters:\n",
    "                new_author = new_author.replace(c, '')\n",
    "            authors += new_author + ' and '\n",
    "        authors = authors[:-5]  #remove final 'and'\n",
    "        \n",
    "    except KeyError:\n",
    "        authors = 'no authors'   #when there's no author listed for this entry\n",
    "        \n",
    "    return authors  #a string with all of the authors listed"
   ]
  },
  {
   "cell_type": "markdown",
   "metadata": {},
   "source": [
    "fill() is called to populate the database table with entries from the bibliography.\n",
    "\n",
    "In order to get the data for the table, the parsed .bib file must be correctly read.  To do this, three get_db...() functions are created.  They correctly handle string (e.g. journal) and integer (e.g. year) values from the bibliography, along with creating an author list string.  When an entry is missing a key, the appropriate 'empty' value (empty string, 0, or 'no authors') is returned to be placed in the table."
   ]
  },
  {
   "cell_type": "markdown",
   "metadata": {},
   "source": [
    "## Misc. Functions"
   ]
  },
  {
   "cell_type": "code",
   "execution_count": 6,
   "metadata": {
    "collapsed": true
   },
   "outputs": [],
   "source": [
    "def allowed_file(filename):\n",
    "    return '.' in filename and \\\n",
    "           filename.rsplit('.', 1)[1].lower() in ALLOWED_EXTENSIONS\n",
    "    #truth value of appropriate file type\n",
    "    \n",
    "def get_collections(all_rows):\n",
    "    output = []\n",
    "    for row in all_rows:\n",
    "        if row[7] not in output:\n",
    "            output.append(row[7])\n",
    "    return output  #a list of unique collection names"
   ]
  },
  {
   "cell_type": "markdown",
   "metadata": {},
   "source": [
    "allowed_file() checks that the file requested to be uploaded is .bib  \n",
    "get_collections() finds unique collection names in the database"
   ]
  },
  {
   "cell_type": "markdown",
   "metadata": {},
   "source": [
    "# URL routes and their functions"
   ]
  },
  {
   "cell_type": "code",
   "execution_count": 7,
   "metadata": {
    "collapsed": true
   },
   "outputs": [],
   "source": [
    "@app.route('/')\n",
    "@app.route('/index')\n",
    "def index():\n",
    "    if Path(db_path).is_file():  #if there's a database,\n",
    "        db = 1\n",
    "        connection, cursor = get_db()\n",
    "        cursor.execute(f'SELECT * FROM bib')  #look at all entries\n",
    "        all_rows = cursor.fetchall()\n",
    "        collections = get_collections(all_rows)  #and find unique collection names\n",
    "        \n",
    "    #if there's not a database\n",
    "    else:\n",
    "        db = 0\n",
    "        connection, cursor = create_db()  #create one\n",
    "        all_rows = cursor.fetchall()\n",
    "        collections = get_collections(all_rows)  #and get an empty list of collections\n",
    "    return render_template('index.html', db = db, collections = collections)"
   ]
  },
  {
   "cell_type": "markdown",
   "metadata": {},
   "source": [
    "This is the 'home' page function of our web application.  If the database exists, it displays the unique collection names (if any).  If not, a database is created."
   ]
  },
  {
   "cell_type": "code",
   "execution_count": null,
   "metadata": {
    "collapsed": true
   },
   "outputs": [],
   "source": [
    "@app.route('/upload')\n",
    "def upload():\n",
    "    message = request.args.get('message')  #a message about recent upload attempts will be displayed to the user\n",
    "    if message == None:\n",
    "        message = ''\n",
    "    return render_template('upload.html', message = message)\n",
    "\n",
    "@app.route('/uploader', methods = ['GET', 'POST'])\n",
    "def upload_file():\n",
    "    if request.method == 'POST':\n",
    "        #Check for file selection and appropriate file type\n",
    "        if 'file' not in request.files:\n",
    "            return redirect(url_for('upload', message = 'Please select a file.'))\n",
    "        file = request.files['file']\n",
    "        if file.filename == '':\n",
    "            return redirect(url_for('upload', message = 'Please select a file with a name.'))\n",
    "        if not allowed_file(file.filename):\n",
    "            return redirect(url_for('upload', message = 'Please select a .bib file.'))\n",
    "        \n",
    "        #if everything looks good, upload the selected file\n",
    "        else:\n",
    "            file.save(os.path.join(app.config['UPLOAD_FOLDER'], secure_filename(file.filename)))\n",
    "            collection = request.form['collection']\n",
    "            bib_data = parse_file(os.path.join(app.config['UPLOAD_FOLDER'], secure_filename(file.filename)))  #parse the .bib file\n",
    "            fill(bib_data, collection)   #populate the database\n",
    "            return redirect(url_for('upload', message = 'Upload successful!'))"
   ]
  },
  {
   "cell_type": "markdown",
   "metadata": {},
   "source": [
    "These are the 'upload' page functions of our web application.  upload() renders the upload.html file, with a message depending on recent upload attempts.  The upload_file() function is called when an upload attempt is made.  After checking for the appropriate file, the file is uploaded, parsed by pybtex, and used to fill the database."
   ]
  },
  {
   "cell_type": "code",
   "execution_count": null,
   "metadata": {},
   "outputs": [],
   "source": [
    "@app.route('/query')\n",
    "def query():\n",
    "    query_string = request.args.get('query_string')\n",
    "    if query_string == None:\n",
    "        results = []\n",
    "    else:\n",
    "        try:\n",
    "            results = query_db(query_string)   #a good query string will return a list of matching database entries\n",
    "        except sqlite3.OperationalError:  #the user may enter a non-sensical query\n",
    "            results = ['error']\n",
    "    return render_template('query.html', results = results)\n",
    "\n",
    "@app.route('/query-er', methods = ['GET', 'POST'])  #following the upload/uploader naming convention\n",
    "def upload_query():\n",
    "    if request.method == 'POST':\n",
    "        query_string = request.form['query_string']\n",
    "        return redirect(url_for('query', query_string = query_string))"
   ]
  },
  {
   "cell_type": "markdown",
   "metadata": {},
   "source": [
    "These are the 'query' page functions of our web application. query() renders the query.html file, while upload_query() is called when the user submits a (partial) SQL query string."
   ]
  },
  {
   "cell_type": "markdown",
   "metadata": {},
   "source": [
    "# Run the app"
   ]
  },
  {
   "cell_type": "code",
   "execution_count": null,
   "metadata": {},
   "outputs": [
    {
     "name": "stderr",
     "output_type": "stream",
     "text": [
      " * Running on http://127.0.0.1:5000/ (Press CTRL+C to quit)\n",
      "127.0.0.1 - - [17/Apr/2018 05:55:55] \"GET / HTTP/1.1\" 200 -\n",
      "127.0.0.1 - - [17/Apr/2018 05:55:58] \"GET / HTTP/1.1\" 200 -\n",
      "127.0.0.1 - - [17/Apr/2018 05:56:01] \"GET /upload HTTP/1.1\" 200 -\n",
      "127.0.0.1 - - [17/Apr/2018 05:56:06] \"POST /uploader HTTP/1.1\" 302 -\n",
      "127.0.0.1 - - [17/Apr/2018 05:56:06] \"GET /upload?message=Upload+successful%21 HTTP/1.1\" 200 -\n",
      "127.0.0.1 - - [17/Apr/2018 05:56:09] \"GET /index HTTP/1.1\" 200 -\n",
      "127.0.0.1 - - [17/Apr/2018 05:56:11] \"GET /upload HTTP/1.1\" 200 -\n",
      "127.0.0.1 - - [17/Apr/2018 05:56:12] \"POST /uploader HTTP/1.1\" 302 -\n",
      "127.0.0.1 - - [17/Apr/2018 05:56:12] \"GET /upload?message=Please+select+a+file+with+a+name. HTTP/1.1\" 200 -\n",
      "127.0.0.1 - - [17/Apr/2018 05:56:17] \"POST /uploader HTTP/1.1\" 302 -\n",
      "127.0.0.1 - - [17/Apr/2018 05:56:17] \"GET /upload?message=Please+select+a+file+with+a+name. HTTP/1.1\" 200 -\n",
      "127.0.0.1 - - [17/Apr/2018 05:56:21] \"GET /query HTTP/1.1\" 200 -\n",
      "127.0.0.1 - - [17/Apr/2018 05:56:30] \"POST /query-er HTTP/1.1\" 302 -\n",
      "127.0.0.1 - - [17/Apr/2018 05:56:30] \"GET /query?query_string=year+%3C+1910 HTTP/1.1\" 200 -\n",
      "127.0.0.1 - - [17/Apr/2018 05:56:33] \"POST /query-er HTTP/1.1\" 302 -\n",
      "127.0.0.1 - - [17/Apr/2018 05:56:33] \"GET /query?query_string=title+LIKE+%22%25parallax%25%22+and+authors+LIKE+%22%25Hawley%25%22 HTTP/1.1\" 200 -\n",
      "127.0.0.1 - - [17/Apr/2018 05:56:41] \"GET /index HTTP/1.1\" 200 -\n",
      "127.0.0.1 - - [17/Apr/2018 05:56:44] \"GET /upload HTTP/1.1\" 200 -\n",
      "127.0.0.1 - - [17/Apr/2018 05:56:50] \"POST /uploader HTTP/1.1\" 302 -\n",
      "127.0.0.1 - - [17/Apr/2018 05:56:50] \"GET /upload?message=Upload+successful%21 HTTP/1.1\" 200 -\n",
      "127.0.0.1 - - [17/Apr/2018 05:56:51] \"GET /index HTTP/1.1\" 200 -\n",
      "127.0.0.1 - - [17/Apr/2018 05:56:55] \"GET /upload HTTP/1.1\" 200 -\n",
      "127.0.0.1 - - [17/Apr/2018 05:56:56] \"GET /query HTTP/1.1\" 200 -\n",
      "127.0.0.1 - - [17/Apr/2018 05:57:00] \"GET /upload HTTP/1.1\" 200 -\n",
      "127.0.0.1 - - [17/Apr/2018 05:57:01] \"GET /index HTTP/1.1\" 200 -\n",
      "127.0.0.1 - - [17/Apr/2018 05:57:03] \"GET /upload HTTP/1.1\" 200 -\n",
      "127.0.0.1 - - [17/Apr/2018 05:57:04] \"GET /query HTTP/1.1\" 200 -\n"
     ]
    }
   ],
   "source": [
    "if __name__ == '__main__':\n",
    "    app.run()"
   ]
  }
 ],
 "metadata": {
  "kernelspec": {
   "display_name": "Python 3",
   "language": "python",
   "name": "python3"
  },
  "language_info": {
   "codemirror_mode": {
    "name": "ipython",
    "version": 3
   },
   "file_extension": ".py",
   "mimetype": "text/x-python",
   "name": "python",
   "nbconvert_exporter": "python",
   "pygments_lexer": "ipython3",
   "version": "3.6.3"
  }
 },
 "nbformat": 4,
 "nbformat_minor": 2
}
